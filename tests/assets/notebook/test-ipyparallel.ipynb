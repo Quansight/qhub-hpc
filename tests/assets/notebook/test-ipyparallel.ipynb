{
 "cells": [
  {
   "cell_type": "markdown",
   "metadata": {},
   "source": [
    "# Create IPyParallel Profile\n",
    "\n",
    "Borrowed from https://gist.github.com/basnijholt/c375ea2d1df6702492b619e0873d6c7c\n",
    "\n",
    "Overtime this should be automated with qhub-hpc and provde better slurm submission scripts"
   ]
  },
  {
   "cell_type": "code",
   "execution_count": 6,
   "metadata": {},
   "outputs": [],
   "source": [
    "! ipython profile create --parallel --profile=slurm"
   ]
  },
  {
   "cell_type": "code",
   "execution_count": 4,
   "metadata": {},
   "outputs": [
    {
     "name": "stdout",
     "output_type": "stream",
     "text": [
      "Overwriting /home/vagrant/.ipython/profile_slurm/ipcontroller_config.py\n"
     ]
    }
   ],
   "source": [
    "%%writefile /home/vagrant/.ipython/profile_slurm/ipcontroller_config.py\n",
    "\n",
    "c.HubFactory.ip = u'*'\n",
    "c.HubFactory.registration_timeout = 600"
   ]
  },
  {
   "cell_type": "code",
   "execution_count": 5,
   "metadata": {},
   "outputs": [
    {
     "name": "stdout",
     "output_type": "stream",
     "text": [
      "Overwriting /home/vagrant/.ipython/profile_slurm/ipengine_config.py\n"
     ]
    }
   ],
   "source": [
    "%%writefile /home/vagrant/.ipython/profile_slurm/ipengine_config.py\n",
    "\n",
    "c.IPEngineApp.wait_for_url_file = 300\n",
    "c.EngineFactory.timeout = 300"
   ]
  },
  {
   "cell_type": "code",
   "execution_count": 19,
   "metadata": {},
   "outputs": [
    {
     "name": "stdout",
     "output_type": "stream",
     "text": [
      "Overwriting /home/vagrant/.ipython/profile_slurm/ipcluster_config.py\n"
     ]
    }
   ],
   "source": [
    "%%writefile /home/vagrant/.ipython/profile_slurm/ipcluster_config.py\n",
    "\n",
    "c.IPClusterStart.controller_launcher_class = 'SlurmControllerLauncher'\n",
    "c.IPClusterEngines.engine_launcher_class = 'SlurmEngineSetLauncher'\n",
    "\n",
    "c.SlurmEngineSetLauncher.batch_template = \"\"\"#!/bin/sh\n",
    "#SBATCH --ntasks={n}\n",
    "#SBATCH --job-name=ipy-engine-\n",
    "srun ipengine --profile-dir=\"{profile_dir}\" --cluster-id=\"\"\n",
    "\"\"\""
   ]
  },
  {
   "cell_type": "markdown",
   "metadata": {},
   "source": [
    "# Create IParallel Cluster\n",
    "\n",
    "This following cell is blocking and should not be run. Prefereably you should visit `/user/<username>/tree#ipyclusters` and create cluster there."
   ]
  },
  {
   "cell_type": "code",
   "execution_count": 25,
   "metadata": {},
   "outputs": [],
   "source": [
    "# ! ipcluster start --n=1 --profile=slurm"
   ]
  },
  {
   "cell_type": "markdown",
   "metadata": {},
   "source": [
    "Check that the cluster was indeed created. You should see a `ipy-controller` and `ipy-engine`."
   ]
  },
  {
   "cell_type": "code",
   "execution_count": 28,
   "metadata": {},
   "outputs": [
    {
     "name": "stdout",
     "output_type": "stream",
     "text": [
      "             JOBID PARTITION     NAME     USER ST       TIME  NODES NODELIST(REASON)\r\n",
      "                 4   general spawner-  vagrant  R      19:26      1 hpc02-test\r\n",
      "                13   general ipy-cont  vagrant  R       0:28      1 hpc03-test\r\n",
      "                14   general ipy-engi  vagrant  R       0:25      1 hpc04-test\r\n"
     ]
    }
   ],
   "source": [
    "! squeue"
   ]
  },
  {
   "cell_type": "markdown",
   "metadata": {},
   "source": [
    "# Using IPyCluster\n",
    "\n",
    "Read docs for usage https://ipyparallel.readthedocs.io/en/latest/"
   ]
  },
  {
   "cell_type": "code",
   "execution_count": 32,
   "metadata": {},
   "outputs": [
    {
     "name": "stdout",
     "output_type": "stream",
     "text": [
      "6.3.0\n"
     ]
    }
   ],
   "source": [
    "import ipyparallel\n",
    "print(ipyparallel.__version__)\n",
    "\n",
    "client = ipyparallel.Client(profile='slurm')"
   ]
  },
  {
   "cell_type": "code",
   "execution_count": 33,
   "metadata": {},
   "outputs": [
    {
     "data": {
      "text/plain": [
       "[0]"
      ]
     },
     "execution_count": 33,
     "metadata": {},
     "output_type": "execute_result"
    }
   ],
   "source": [
    "client.ids"
   ]
  },
  {
   "cell_type": "code",
   "execution_count": 48,
   "metadata": {},
   "outputs": [],
   "source": [
    "def slow_power(x, i=5):\n",
    "    import time\n",
    "    time.sleep(2)\n",
    "    return x**i"
   ]
  },
  {
   "cell_type": "code",
   "execution_count": 49,
   "metadata": {},
   "outputs": [],
   "source": [
    "result = client[:].apply(slow_power, 5, 5)"
   ]
  },
  {
   "cell_type": "code",
   "execution_count": 50,
   "metadata": {},
   "outputs": [
    {
     "name": "stdout",
     "output_type": "stream",
     "text": [
      "CPU times: user 2.7 ms, sys: 539 µs, total: 3.23 ms\n",
      "Wall time: 1.72 s\n"
     ]
    },
    {
     "data": {
      "text/plain": [
       "[3125]"
      ]
     },
     "execution_count": 50,
     "metadata": {},
     "output_type": "execute_result"
    }
   ],
   "source": [
    "%time result.result()"
   ]
  },
  {
   "cell_type": "code",
   "execution_count": null,
   "metadata": {},
   "outputs": [],
   "source": []
  }
 ],
 "metadata": {
  "kernelspec": {
   "display_name": "Python 3",
   "language": "python",
   "name": "python3"
  },
  "language_info": {
   "codemirror_mode": {
    "name": "ipython",
    "version": 3
   },
   "file_extension": ".py",
   "mimetype": "text/x-python",
   "name": "python",
   "nbconvert_exporter": "python",
   "pygments_lexer": "ipython3",
   "version": "3.8.6"
  }
 },
 "nbformat": 4,
 "nbformat_minor": 4
}
