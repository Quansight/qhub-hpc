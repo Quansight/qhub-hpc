{
 "cells": [
  {
   "cell_type": "markdown",
   "id": "theoretical-impact",
   "metadata": {},
   "source": [
    "Copy this notebook to a write-able directory\n",
    "\n",
    "# Start IPyParallel Cluster\n",
    "\n",
    "## (recommended) use the ipywigets \n",
    "\n",
    "See the code cell bellow and run\n",
    "\n",
    "## (not recommended) manually start/stop ipycluster\n",
    "\n",
    "To manually start an ipcluster\n",
    "\n",
    "```shell\n",
    "ipcluster start -n <num-workers>\n",
    "```\n",
    "\n",
    "To manually stop an ip cluster\n",
    "\n",
    "```shell\n",
    "ipcluster stop\n",
    "```\n",
    "\n",
    "If the cluster does not stop gracefully use the option `--signal=9`"
   ]
  },
  {
   "cell_type": "code",
   "execution_count": 13,
   "id": "lonely-finding",
   "metadata": {},
   "outputs": [
    {
     "data": {
      "application/vnd.jupyter.widget-view+json": {
       "model_id": "e542c8fc4aa74f118d79b1b5c757fd3c",
       "version_major": 2,
       "version_minor": 0
      },
      "text/plain": [
       "Box(children=(HTML(value='<h1>IPyParallel Cluster</h1>'), IntText(value=1, description='Workers', layout=Layou…"
      ]
     },
     "metadata": {},
     "output_type": "display_data"
    }
   ],
   "source": [
    "import os\n",
    "import subprocess\n",
    "import shutil\n",
    "\n",
    "from ipywidgets import IntText, Button, Output, Box, Layout, HTML\n",
    "\n",
    "def is_running():\n",
    "    pid_filename = os.path.expanduser('~/.ipython/profile_default/pid/ipcluster.pid')\n",
    "    \n",
    "    if not os.path.isfile(pid_filename):\n",
    "        return False\n",
    "    \n",
    "    with open(pid_filename) as f:\n",
    "        pid = f.read()[:-1]\n",
    "        \n",
    "    return os.path.isdir(f'/proc/{pid}')\n",
    "\n",
    "number_workers = IntText(value=1, description='Workers', disabled=False)\n",
    "number_workers.layout.visibility = 'hidden' if is_running() else 'visible'\n",
    "action_button = Button(description='stop cluster' if is_running() else 'start cluster')\n",
    "output = Output()\n",
    "\n",
    "def on_button_clicked(b):\n",
    "    status = is_running()\n",
    "    \n",
    "    if status: # is running\n",
    "        command = [shutil.which('ipcluster'), 'stop']\n",
    "    else:\n",
    "        command = [shutil.which('ipcluster'), 'start', '-n', str(number_workers.value)]\n",
    "        \n",
    "    with output:\n",
    "        print(command)    \n",
    "    \n",
    "    number_workers.layout.visibility = 'hidden' if not status else 'visible'\n",
    "    b.description = 'stop cluster' if not status else 'start cluster'\n",
    "    subprocess.Popen(' '.join(command), shell=True)\n",
    "\n",
    "action_button.on_click(on_button_clicked)\n",
    "\n",
    "Box([\n",
    "    HTML('<h1>IPyParallel Cluster</h1>'),\n",
    "    number_workers,\n",
    "    action_button,\n",
    "    output\n",
    "], layout=Layout(\n",
    "    display='flex',\n",
    "    flex_flow='column',\n",
    "    align_items='stretch',\n",
    "))"
   ]
  },
  {
   "cell_type": "markdown",
   "id": "presidential-gather",
   "metadata": {},
   "source": [
    "# Run IPyParallel Computation"
   ]
  },
  {
   "cell_type": "code",
   "execution_count": 15,
   "id": "directed-smart",
   "metadata": {},
   "outputs": [
    {
     "name": "stdout",
     "output_type": "stream",
     "text": [
      "6.3.0\n"
     ]
    }
   ],
   "source": [
    "import ipyparallel\n",
    "print(ipyparallel.__version__)\n",
    "\n",
    "client = ipyparallel.Client()"
   ]
  },
  {
   "cell_type": "code",
   "execution_count": 16,
   "id": "electrical-sport",
   "metadata": {},
   "outputs": [
    {
     "data": {
      "text/plain": [
       "[0]"
      ]
     },
     "execution_count": 16,
     "metadata": {},
     "output_type": "execute_result"
    }
   ],
   "source": [
    "client.ids"
   ]
  },
  {
   "cell_type": "code",
   "execution_count": 17,
   "id": "mysterious-north",
   "metadata": {},
   "outputs": [],
   "source": [
    "def slow_power(x, i=5):\n",
    "    import time\n",
    "    time.sleep(2)\n",
    "    return pow(x, i)"
   ]
  },
  {
   "cell_type": "code",
   "execution_count": 18,
   "id": "inside-planet",
   "metadata": {},
   "outputs": [],
   "source": [
    "result = client[:].apply(slow_power, 5, 5)"
   ]
  },
  {
   "cell_type": "code",
   "execution_count": 19,
   "id": "flush-parks",
   "metadata": {},
   "outputs": [
    {
     "data": {
      "text/plain": [
       "[3125]"
      ]
     },
     "execution_count": 19,
     "metadata": {},
     "output_type": "execute_result"
    }
   ],
   "source": [
    "result.result()"
   ]
  },
  {
   "cell_type": "code",
   "execution_count": null,
   "id": "ahead-grave",
   "metadata": {},
   "outputs": [],
   "source": []
  }
 ],
 "metadata": {
  "kernelspec": {
   "display_name": "Python [conda env:jupyterlab]",
   "language": "python",
   "name": "conda-env-jupyterlab-py"
  },
  "language_info": {
   "codemirror_mode": {
    "name": "ipython",
    "version": 3
   },
   "file_extension": ".py",
   "mimetype": "text/x-python",
   "name": "python",
   "nbconvert_exporter": "python",
   "pygments_lexer": "ipython3",
   "version": "3.8.8"
  }
 },
 "nbformat": 4,
 "nbformat_minor": 5
}
