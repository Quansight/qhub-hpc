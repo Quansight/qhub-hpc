{
 "cells": [
  {
   "cell_type": "markdown",
   "metadata": {},
   "source": [
    "# Create IPyParallel Profile\n",
    "\n",
    "Borrowed from https://gist.github.com/basnijholt/c375ea2d1df6702492b619e0873d6c7c\n",
    "\n",
    "And https://docs.bodo.ai/latest/source/ipyparallel.html\n",
    "\n",
    "And lotsa lotsa googling.\n",
    "\n",

       "Overtime this should be automated with QHub HPC and provide better slurm submission scripts"
   ]
  },
  {
   "cell_type": "code",
   "execution_count": 12,
   "metadata": {},
   "outputs": [
    {
     "name": "stdout",
     "output_type": "stream",
     "text": [
      "The history saving thread hit an unexpected error (OperationalError('attempt to write a readonly database')).History will not be written to the database.\n",
      "[ProfileCreate] Generating default config file: '/home/dharhas/.ipython/profile_slurm/ipython_config.py'\n",
      "[ProfileCreate] Generating default config file: '/home/dharhas/.ipython/profile_slurm/ipython_kernel_config.py'\n",
      "[ProfileCreate] Generating default config file: '/home/dharhas/.ipython/profile_slurm/ipcontroller_config.py'\n",
      "[ProfileCreate] Generating default config file: '/home/dharhas/.ipython/profile_slurm/ipengine_config.py'\n",
      "[ProfileCreate] Generating default config file: '/home/dharhas/.ipython/profile_slurm/ipcluster_config.py'\n"
     ]
    }
   ],
   "source": [
    "! ipython profile create --parallel --profile=slurm"
   ]
  },
  {
   "cell_type": "code",
   "execution_count": 13,
   "metadata": {},
   "outputs": [
    {
     "name": "stdout",
     "output_type": "stream",
     "text": [
      "Overwriting /home/dharhas/.ipython/profile_slurm/ipcontroller_config.py\n"
     ]
    }
   ],
   "source": [
    "%%writefile ~/.ipython/profile_slurm/ipcontroller_config.py\n",
    "\n",
    "c.HubFactory.ip = u'*'\n",
    "c.HubFactory.registration_timeout = 600"
   ]
  },
  {
   "cell_type": "code",
   "execution_count": 14,
   "metadata": {},
   "outputs": [
    {
     "name": "stdout",
     "output_type": "stream",
     "text": [
      "Overwriting /home/dharhas/.ipython/profile_slurm/ipengine_config.py\n"
     ]
    }
   ],
   "source": [
    "%%writefile ~/.ipython/profile_slurm/ipengine_config.py\n",
    "\n",
    "c.IPEngineApp.wait_for_url_file = 300\n",
    "c.EngineFactory.timeout = 300"
   ]
  },
  {
   "cell_type": "code",
   "execution_count": 15,
   "metadata": {},
   "outputs": [],
   "source": [
    "#HOSTFILE=$(pwd)/hostfile.$SLURM_JOB_ID\n",
    "#scontrol show hostnames > $HOSTFILE"
   ]
  },
  {
   "cell_type": "code",
   "execution_count": 22,
   "metadata": {},
   "outputs": [
    {
     "name": "stdout",
     "output_type": "stream",
     "text": [
      "Overwriting /home/dharhas/.ipython/profile_slurm/ipcluster_config.py\n"
     ]
    }
   ],
   "source": [
    "%%writefile ~/.ipython/profile_slurm/ipcluster_config.py\n",
    "\n",
    "c.IPClusterStart.controller_launcher_class = 'SlurmControllerLauncher'\n",
    "c.IPClusterEngines.engine_launcher_class = 'SlurmEngineSetLauncher'\n",
    "\n",
    "# this is based on 4GB per core\n",
    "c.SlurmEngineSetLauncher.batch_template = \"\"\"#!/bin/sh\n",
    "#SBATCH --ntasks={n}\n",
    "#SBATCH --job-name=ipy-engine-\n",
    "#SBATCH --mem=4G\n",
    "#SBATCH --cpus-per-task=1\n",
    "\n",
    "HOSTFILE=$(pwd)/hostfile.$SLURM_JOB_ID\n",
    "scontrol show hostnames > $HOSTFILE\n",
    "\n",
    "mpiexec -n {n} -machinefile $HOSTFILE python -m ipyparallel.engine --mpi --profile-dir ~/.ipython/profile_slurm --cluster-id ''\n",
    "\"\"\""
   ]
  }
 ],
 "metadata": {
  "kernelspec": {
   "display_name": "Python [conda env:bodo]",
   "language": "python",
   "name": "conda-env-bodo-py"
  },
  "language_info": {
   "codemirror_mode": {
    "name": "ipython",
    "version": 3
   },
   "file_extension": ".py",
   "mimetype": "text/x-python",
   "name": "python",
   "nbconvert_exporter": "python",
   "pygments_lexer": "ipython3",
   "version": "3.8.6"
  }
 },
 "nbformat": 4,
 "nbformat_minor": 4
}
